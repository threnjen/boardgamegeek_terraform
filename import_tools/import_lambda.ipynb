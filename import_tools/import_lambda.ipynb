{
 "cells": [
  {
   "cell_type": "code",
   "execution_count": 122,
   "metadata": {},
   "outputs": [],
   "source": [
    "import boto3\n",
    "import json\n",
    "import os\n",
    "\n",
    "aws_resource = \"lambda\"\n",
    "state_path = \"boardgamegeek.tfstate\"\n",
    "temp_import_file = \"temp_import.tf\"\n",
    "state_type = \"aws_lambda_function\"\n",
    "output_file = \"lambda_imported.tf\"\n",
    "env_var_bucket = \"\"\n",
    "\n",
    "client = boto3.client(aws_resource)"
   ]
  },
  {
   "cell_type": "markdown",
   "metadata": {},
   "source": [
    "create import blocks for Terraform"
   ]
  },
  {
   "cell_type": "code",
   "execution_count": null,
   "metadata": {},
   "outputs": [],
   "source": [
    "repositories = client.list_functions()['Functions']\n",
    "repositories"
   ]
  },
  {
   "cell_type": "code",
   "execution_count": 124,
   "metadata": {},
   "outputs": [],
   "source": [
    "names = [f['FunctionName'] for f in repositories]"
   ]
  },
  {
   "cell_type": "code",
   "execution_count": 125,
   "metadata": {},
   "outputs": [],
   "source": [
    "if os.path.exists(temp_import_file):\n",
    "    os.remove(temp_import_file)\n",
    "\n",
    "for name in names:\n",
    "    import_block = f'resource \"{state_type}\" \"{name}\" {{\\nname = \"{name}\"\\n}}\\n'\n",
    "    # Write the HCL configuration to a .tf file\n",
    "    with open(temp_import_file, 'a') as tf_file:\n",
    "        tf_file.write(import_block)"
   ]
  },
  {
   "cell_type": "code",
   "execution_count": null,
   "metadata": {},
   "outputs": [],
   "source": [
    "os.system(\"terraform init\")"
   ]
  },
  {
   "cell_type": "code",
   "execution_count": null,
   "metadata": {},
   "outputs": [],
   "source": [
    "for name in names:\n",
    "    import_command = f\"terraform import {state_type}.{name} {name}\"\n",
    "    os.system(import_command)\n",
    "\n",
    "if os.path.exists(temp_import_file):\n",
    "    os.remove(temp_import_file)"
   ]
  },
  {
   "cell_type": "markdown",
   "metadata": {},
   "source": [
    "Open imported blocks and extract settings"
   ]
  },
  {
   "cell_type": "code",
   "execution_count": null,
   "metadata": {},
   "outputs": [],
   "source": [
    "data = open(state_path).read()\n",
    "state = json.loads(data)['resources']\n",
    "specific_types = [f for f in state if f['type'] == state_type]\n",
    "specific_types[0]['instances'][0]['attributes']"
   ]
  },
  {
   "cell_type": "code",
   "execution_count": null,
   "metadata": {},
   "outputs": [],
   "source": [
    "# description = \"{instance['description']}\"\n",
    "\n",
    "if os.path.exists(output_file):\n",
    "    os.remove(output_file)\n",
    "\n",
    "for resource in specific_types[-1:]:\n",
    "    attributes = resource['instances'][0]['attributes']\n",
    "    print(resource['name'])\n",
    "\n",
    "    # environment = attributes['environment']\n",
    "    # variables = environment[0]['variables'] if len(environment) else {\"ENV\": \"prod\"}\n",
    "    # os.system(f\"touch {resource['name']}_lambda.env\")\n",
    "    # with open(f\"{resource['name']}_lambda.env\", 'w') as f:\n",
    "    #     for key, value in variables.items():\n",
    "    #         f.write(f\"{key.upper()}={value}\\n\")\n",
    "    # print(f\"Environment variables written to {resource['name']}_lambda.env\")\n",
    "    # s3client = boto3.client('s3')\n",
    "    # s3client.upload_file(f\"{resource['name']}_lambda.env\", '{env_var_bucket}', f\"lambda_env_files/{resource['name']}_lambda.env\", ExtraArgs={'ContentType': 'text/plain'})\n",
    "    # os.remove(f\"{resource['name']}_lambda.env\")\n",
    "\n",
    "    # Define the HCL configuration for the resource\n",
    "    if attributes.get(\"package_type\") == \"Zip\":\n",
    "        resource_or_image = f'filename = \"lambda_function.zip\"\\n\\t\\\n",
    "  runtime = \"{attributes[\"runtime\"]}\"\\n\\t\\\n",
    "  handler = \"{attributes[\"handler\"]}\"'\n",
    "    elif attributes.get(\"package_type\") == \"Image\":\n",
    "        resource_or_image = f'package_type = \"{attributes[\"package_type\"]}\"\\n\\timage_uri = \"{attributes[\"image_uri\"]}\"'\n",
    "    \n",
    "    if len(attributes.get(\"vpc_config\")):\n",
    "        vpc = f'vpc_config {{\\n\\t\\\n",
    "        subnet_ids = {attributes[\"vpc_config\"][0][\"subnet_ids\"]}\\n\\t\\\n",
    "        security_group_ids = {attributes[\"vpc_config\"][0][\"security_group_ids\"]}\\n\\t}}'\n",
    "    else:\n",
    "        vpc = \"\"\n",
    "\n",
    "    description = attributes.get(\"description\", \"\").replace('\"', \"\").replace(';', \"\")\n",
    "\n",
    "    if len(attributes.get(\"layers\")):\n",
    "        layers = f'layers = {attributes[\"layers\"]}'\n",
    "    else:\n",
    "        layers = \"\"\n",
    "\n",
    "    hcl = f\"\"\"\n",
    "data \"aws_s3_object\" \"{resource['name']}_lambda_env\" {{\n",
    "  bucket = \"hpa-data-eng\"\n",
    "  key = \"lambda_env_files/{resource['name']}_lambda.env\"\n",
    "}} \n",
    "resource \"{state_type}\" \"{resource['name']}\" {{\n",
    "    depends_on = [data.aws_s3_object.{resource['name']}_lambda_env]\n",
    "    function_name = \"{resource['name']}\"\n",
    "    publish = false\n",
    "    role = \"{attributes['role']}\"\n",
    "    description = \"{description}\"\n",
    "    {resource_or_image}\n",
    "    timeout = {attributes['timeout']}\n",
    "    {layers}\n",
    "    tags = {{\n",
    "        {', '.join([f'\"{key}\" = \"{value}\"' for key, value in attributes['tags'].items()])}\n",
    "    }}\n",
    "    {vpc}\n",
    "    environment {{\n",
    "    variables = {{ for tuple in regexall(\"(.*?)=(.*)\", data.aws_s3_object.{resource['name']}_lambda_env.body) : tuple[0] => tuple[1] }}\n",
    "  }}\n",
    "}}\n",
    "    \"\"\".replace(\"'\", '\"')\n",
    "\n",
    "\n",
    "    # Write the HCL configuration to a .tf file\n",
    "    with open(output_file, 'a') as tf_file:\n",
    "        tf_file.write(hcl)"
   ]
  },
  {
   "cell_type": "code",
   "execution_count": null,
   "metadata": {},
   "outputs": [],
   "source": []
  }
 ],
 "metadata": {
  "kernelspec": {
   "display_name": "de-terraform-homepartners-PANsxMj9",
   "language": "python",
   "name": "python3"
  },
  "language_info": {
   "codemirror_mode": {
    "name": "ipython",
    "version": 3
   },
   "file_extension": ".py",
   "mimetype": "text/x-python",
   "name": "python",
   "nbconvert_exporter": "python",
   "pygments_lexer": "ipython3",
   "version": "3.9.18"
  }
 },
 "nbformat": 4,
 "nbformat_minor": 2
}
