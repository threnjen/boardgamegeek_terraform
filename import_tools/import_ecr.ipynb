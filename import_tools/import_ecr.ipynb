{
 "cells": [
  {
   "cell_type": "code",
   "execution_count": 14,
   "metadata": {},
   "outputs": [],
   "source": [
    "import boto3\n",
    "import json\n",
    "import os\n",
    "\n",
    "state_path = \"boardgamegeek.tfstate\"\n",
    "temp_import_file = \"temp_import.tf\"\n",
    "state_type = \"aws_ecr_repository\"\n",
    "output_file = \"ecr_imported.tf\""
   ]
  },
  {
   "cell_type": "markdown",
   "metadata": {},
   "source": [
    "create import blocks for Terraform"
   ]
  },
  {
   "cell_type": "code",
   "execution_count": 5,
   "metadata": {},
   "outputs": [],
   "source": [
    "ecr_client = boto3.client('ecr')\n",
    "repositories = ecr_client.describe_repositories()['repositories']\n",
    "repo_names = [f['repositoryName'] for f in repositories]"
   ]
  },
  {
   "cell_type": "code",
   "execution_count": 6,
   "metadata": {},
   "outputs": [],
   "source": [
    "if os.path.exists(temp_import_file):\n",
    "    os.remove(temp_import_file)\n",
    "\n",
    "for repo_name in repo_names:\n",
    "    import_block = f'resource \"{state_type}\" \"{repo_name}\" {{\\nname = \"{repo_name}\"\\n}}\\n'\n",
    "    # Write the HCL configuration to a .tf file\n",
    "    with open(temp_import_file, 'a') as tf_file:\n",
    "        tf_file.write(import_block)"
   ]
  },
  {
   "cell_type": "code",
   "execution_count": null,
   "metadata": {},
   "outputs": [],
   "source": [
    "os.system(\"terraform init\")"
   ]
  },
  {
   "cell_type": "code",
   "execution_count": null,
   "metadata": {},
   "outputs": [],
   "source": [
    "for repo_name in repo_names:\n",
    "    import_command = f\"terraform import {state_type}.{repo_name} {repo_name}\"\n",
    "    os.system(import_command)"
   ]
  },
  {
   "cell_type": "markdown",
   "metadata": {},
   "source": [
    "Open imported blocks and extract settings"
   ]
  },
  {
   "cell_type": "code",
   "execution_count": null,
   "metadata": {},
   "outputs": [],
   "source": [
    "data = open(state_path).read()\n",
    "state = json.loads(data)['resources']\n",
    "specific_types = [f for f in state if f['type'] == state_type]\n",
    "specific_types"
   ]
  },
  {
   "cell_type": "code",
   "execution_count": null,
   "metadata": {},
   "outputs": [],
   "source": [
    "for resource in specific_types:\n",
    "    instance = resource['instances'][0]['attributes']\n",
    "\n",
    "    # Define the HCL configuration for the resource\n",
    "    hcl = f\"\"\"\n",
    "resource \"aws_ecr_repository\" \"{resource['name']}\" {{\n",
    "    name                      = \"{instance['name']}\"\n",
    "    image_tag_mutability       = \"{instance['image_tag_mutability']}\"\n",
    "    image_scanning_configuration {{\n",
    "        scan_on_push = {str(instance['image_scanning_configuration'][0]['scan_on_push']).lower()}\n",
    "    }}\n",
    "    encryption_configuration {{\n",
    "        encryption_type = \"{instance['encryption_configuration'][0]['encryption_type']}\"\n",
    "        kms_key         = \"{instance['encryption_configuration'][0]['kms_key']}\"\n",
    "    }}\n",
    "\n",
    "    tags = {{\n",
    "        {', '.join([f'\"{key}\" = \"{value}\"' for key, value in instance['tags'].items()])}\n",
    "    }}\n",
    "}}\n",
    "    \"\"\"\n",
    "\n",
    "    # Write the HCL configuration to a .tf file\n",
    "    with open(output_file, 'a') as tf_file:\n",
    "        tf_file.write(hcl)\n",
    "\n",
    "    print(f\"HCL configuration written to {output_file} for {resource['name']}\")\n",
    "\n",
    "if os.path.exists(temp_import_file):\n",
    "    os.remove(temp_import_file)"
   ]
  },
  {
   "cell_type": "code",
   "execution_count": null,
   "metadata": {},
   "outputs": [],
   "source": []
  }
 ],
 "metadata": {
  "kernelspec": {
   "display_name": "de-terraform-homepartners-PANsxMj9",
   "language": "python",
   "name": "python3"
  },
  "language_info": {
   "codemirror_mode": {
    "name": "ipython",
    "version": 3
   },
   "file_extension": ".py",
   "mimetype": "text/x-python",
   "name": "python",
   "nbconvert_exporter": "python",
   "pygments_lexer": "ipython3",
   "version": "3.9.18"
  }
 },
 "nbformat": 4,
 "nbformat_minor": 2
}
